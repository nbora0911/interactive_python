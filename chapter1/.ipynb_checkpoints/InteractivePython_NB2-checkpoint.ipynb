{
 "cells": [
  {
   "cell_type": "markdown",
   "metadata": {},
   "source": [
    "### Input and Output"
   ]
  },
  {
   "cell_type": "code",
   "execution_count": 3,
   "metadata": {},
   "outputs": [],
   "source": [
    "import math"
   ]
  },
  {
   "cell_type": "code",
   "execution_count": 1,
   "metadata": {},
   "outputs": [
    {
     "name": "stdout",
     "output_type": "stream",
     "text": [
      "Your name in all capitals is NEHABORA and have length 8\n"
     ]
    }
   ],
   "source": [
    "aName = input(\"Please enter your name: \")\n",
    "print(\"Your name in all capitals is\", aName.upper(), \"and have length\", len(aName))"
   ]
  },
  {
   "cell_type": "code",
   "execution_count": 12,
   "metadata": {},
   "outputs": [
    {
     "name": "stdout",
     "output_type": "stream",
     "text": [
      "Radius of the cirle is  1.0 and area is 6.283185307179586\n"
     ]
    }
   ],
   "source": [
    "sradius = input(\"Please input radius of the circle \")\n",
    "radius = float(sradius)\n",
    "area = 2*(math.pi)*radius**2\n",
    "print(\"Radius of the cirle is \", radius, \"and area is\",area )"
   ]
  },
  {
   "cell_type": "code",
   "execution_count": 13,
   "metadata": {},
   "outputs": [
    {
     "name": "stdout",
     "output_type": "stream",
     "text": [
      "Hello\n"
     ]
    }
   ],
   "source": [
    "print(\"Hello\")"
   ]
  },
  {
   "cell_type": "code",
   "execution_count": 14,
   "metadata": {},
   "outputs": [
    {
     "name": "stdout",
     "output_type": "stream",
     "text": [
      "Hello****World\n"
     ]
    }
   ],
   "source": [
    "print(\"Hello\", \"World\", sep=\"****\")"
   ]
  },
  {
   "cell_type": "code",
   "execution_count": 17,
   "metadata": {},
   "outputs": [
    {
     "name": "stdout",
     "output_type": "stream",
     "text": [
      "Hello***World*"
     ]
    }
   ],
   "source": [
    "print(\"Hello\", \"World\", sep=\"***\", end=\"*\")"
   ]
  },
  {
   "cell_type": "code",
   "execution_count": 18,
   "metadata": {},
   "outputs": [],
   "source": [
    "age = 5"
   ]
  },
  {
   "cell_type": "code",
   "execution_count": 21,
   "metadata": {},
   "outputs": [
    {
     "name": "stdout",
     "output_type": "stream",
     "text": [
      "NehaBora is 5 years wiser\n"
     ]
    }
   ],
   "source": [
    "print(f'{aName} is {age} years wiser')"
   ]
  },
  {
   "cell_type": "code",
   "execution_count": 22,
   "metadata": {},
   "outputs": [
    {
     "name": "stdout",
     "output_type": "stream",
     "text": [
      "NehaBora is 5 years old\n"
     ]
    }
   ],
   "source": [
    "print(\"%s is %d years old\" % (aName, age))"
   ]
  },
  {
   "cell_type": "code",
   "execution_count": 30,
   "metadata": {},
   "outputs": [
    {
     "name": "stdout",
     "output_type": "stream",
     "text": [
      "d is used for Integer\n",
      "i is used for Integer\n",
      "u is used for Unsigned integer\n",
      "f is used for Floating point as m.dddd\n",
      "e is used for Floating point as m.ddddde+/-xx\n",
      "E is used for Floating point as m.dddddE+/-xx\n",
      "g is used for Use %e for exponents less than -4 or greater than +5 use %f\n",
      "c is used for Single Character\n",
      "s is used for String or any Python data object that can be converted to a tring by using the str function\n",
      "% is used for Insert a literal % charachter\n"
     ]
    }
   ],
   "source": [
    "# CHAR O/P FORMAT\n",
    "charformats = {\n",
    "    \"d\" : \"Integer\",\n",
    "    \"i\" : \"Integer\",\n",
    "    \"u\" : \"Unsigned integer\",\n",
    "    \"f\" : \"Floating point as m.dddd\",\n",
    "    \"e\" : \"Floating point as m.ddddde+/-xx\",\n",
    "    \"E\" : \"Floating point as m.dddddE+/-xx\",\n",
    "    \"g\" : \"Use %e for exponents less than -4 or greater than +5 use %f\",\n",
    "    \"c\" : \"Single Character\",\n",
    "    \"s\" : \"String or any Python data object that can be converted to a tring by using the str function\",\n",
    "    \"%\" : \"Insert a literal % charachter\"\n",
    "}\n",
    "\n",
    "for key, value in charformats.items():\n",
    "    print( key, \"is used for\", value)"
   ]
  },
  {
   "cell_type": "code",
   "execution_count": 25,
   "metadata": {},
   "outputs": [
    {
     "data": {
      "text/plain": [
       "{'%': 'Insert a literal % charachter',\n",
       " 'E': 'Floating point as m.dddddE+/-xx',\n",
       " 'c': 'Single Character',\n",
       " 'd': 'Integer',\n",
       " 'e': 'Floating point as m.ddddde+/-xx',\n",
       " 'f': 'Floating point as m.dddd',\n",
       " 'g': 'Use %e for exponents less than -4 or greater than +5 use %f',\n",
       " 'i': 'Integer',\n",
       " 's': 'String or any Python data object that can be converted to a tring by using the str function',\n",
       " 'u': 'Unsigned integer'}"
      ]
     },
     "execution_count": 25,
     "metadata": {},
     "output_type": "execute_result"
    }
   ],
   "source": [
    "charformats"
   ]
  },
  {
   "cell_type": "code",
   "execution_count": 33,
   "metadata": {},
   "outputs": [
    {
     "name": "stdout",
     "output_type": "stream",
     "text": [
      "%20d is used to Put the value in a field width of 20\n",
      "%-20d is used to Put the value in a field 20 characters wide, left-justified\n",
      "%+20d is used to Put the value in a field 20 characters wide, right- justified\n",
      "%020d is used to Put the value in a field 20 characters wide, fill in with leading zeros\n",
      "%20.2f is used to Put the value in a field 20 characters wide with 2 characters to the right of the decimal point\n",
      "%(name)d is used to Get the value from the supplied dict using name as the key\n"
     ]
    }
   ],
   "source": [
    "modifer_formats = {\n",
    "    \"%20d\" : \"Put the value in a field width of 20\",\n",
    "    \"%-20d\" : \"Put the value in a field 20 characters wide, left-justified\",\n",
    "    \"%+20d\" : \"Put the value in a field 20 characters wide, right- justified\",\n",
    "    \"%020d\" : \"Put the value in a field 20 characters wide, fill in with leading zeros\",\n",
    "    \"%20.2f\" : \"Put the value in a field 20 characters wide with 2 characters to the right of the decimal point\",\n",
    "    \"%(name)d\" : \"Get the value from the supplied dict using name as the key\"\n",
    "}\n",
    "\n",
    "for key, value in modifer_formats.items():\n",
    "    print(key, \"is used to\", value)"
   ]
  },
  {
   "cell_type": "code",
   "execution_count": 34,
   "metadata": {},
   "outputs": [],
   "source": [
    "price = 20\n",
    "item = \"banana\""
   ]
  },
  {
   "cell_type": "code",
   "execution_count": 39,
   "metadata": {},
   "outputs": [
    {
     "name": "stdout",
     "output_type": "stream",
     "text": [
      "A banana cost 20 cents\n"
     ]
    }
   ],
   "source": [
    "print(\"A %s costs %d cents\" %(item, price))"
   ]
  },
  {
   "cell_type": "code",
   "execution_count": 41,
   "metadata": {},
   "outputs": [
    {
     "name": "stdout",
     "output_type": "stream",
     "text": [
      "A banana costs 20.00 cents\n"
     ]
    }
   ],
   "source": [
    "print(\"A %s costs %.2f cents\" %(item, price))"
   ]
  },
  {
   "cell_type": "code",
   "execution_count": 46,
   "metadata": {},
   "outputs": [
    {
     "name": "stdout",
     "output_type": "stream",
     "text": [
      "A banana costs 0000020.00 cents\n"
     ]
    }
   ],
   "source": [
    "print(\"A %s costs %010.2f cents\" %(item, price))"
   ]
  },
  {
   "cell_type": "code",
   "execution_count": 47,
   "metadata": {},
   "outputs": [
    {
     "name": "stdout",
     "output_type": "stream",
     "text": [
      "A banana costs 20.00      cents\n"
     ]
    }
   ],
   "source": [
    "print(\"A %s costs %-10.2f cents\" %(item, price))"
   ]
  },
  {
   "cell_type": "code",
   "execution_count": 64,
   "metadata": {},
   "outputs": [
    {
     "name": "stdout",
     "output_type": "stream",
     "text": [
      "A banana costs         20 cents\n"
     ]
    }
   ],
   "source": [
    "# right justified\n",
    "print(\"A %s costs %10d cents\" %(item, price))"
   ]
  },
  {
   "cell_type": "markdown",
   "metadata": {},
   "source": [
    "### Control Structures"
   ]
  },
  {
   "cell_type": "code",
   "execution_count": 65,
   "metadata": {},
   "outputs": [
    {
     "name": "stdout",
     "output_type": "stream",
     "text": [
      "['c', 'a', 't', 'd', 'o', 'g', 'r', 'a', 'b', 'b', 'i', 't']\n"
     ]
    }
   ],
   "source": [
    "wordlist = ['cat', 'dog', 'rabbit']\n",
    "letterlist = []\n",
    "for aword in wordlist:\n",
    "    for aletter in aword:\n",
    "        letterlist.append(aletter)\n",
    "        \n",
    "print(letterlist)"
   ]
  },
  {
   "cell_type": "code",
   "execution_count": 66,
   "metadata": {},
   "outputs": [
    {
     "data": {
      "text/plain": [
       "{'a', 'b', 'c', 'd', 'g', 'i', 'o', 'r', 't'}"
      ]
     },
     "execution_count": 66,
     "metadata": {},
     "output_type": "execute_result"
    }
   ],
   "source": [
    "set(letterlist)"
   ]
  },
  {
   "cell_type": "markdown",
   "metadata": {},
   "source": [
    "## List Comprehensions"
   ]
  },
  {
   "cell_type": "code",
   "execution_count": 69,
   "metadata": {},
   "outputs": [
    {
     "data": {
      "text/plain": [
       "[1, 4, 9, 16, 25, 36, 49, 64, 81, 100]"
      ]
     },
     "execution_count": 69,
     "metadata": {},
     "output_type": "execute_result"
    }
   ],
   "source": [
    "sqlist = []\n",
    "for x in range(1,11):\n",
    "    sqlist.append(x*x)\n",
    "sqlist"
   ]
  },
  {
   "cell_type": "code",
   "execution_count": 71,
   "metadata": {},
   "outputs": [
    {
     "data": {
      "text/plain": [
       "[1, 4, 9, 16, 25, 36, 49, 64, 81, 100]"
      ]
     },
     "execution_count": 71,
     "metadata": {},
     "output_type": "execute_result"
    }
   ],
   "source": [
    "sqlist = [x*x for x in range(1,11)]\n",
    "sqlist"
   ]
  },
  {
   "cell_type": "code",
   "execution_count": 72,
   "metadata": {},
   "outputs": [
    {
     "data": {
      "text/plain": [
       "[1, 9, 25, 49, 81]"
      ]
     },
     "execution_count": 72,
     "metadata": {},
     "output_type": "execute_result"
    }
   ],
   "source": [
    "[x for x in sqlist if x%2!=0]"
   ]
  },
  {
   "cell_type": "code",
   "execution_count": 73,
   "metadata": {},
   "outputs": [
    {
     "data": {
      "text/plain": [
       "[1, 'NA', 9, 'NA', 25, 'NA', 49, 'NA', 81, 'NA']"
      ]
     },
     "execution_count": 73,
     "metadata": {},
     "output_type": "execute_result"
    }
   ],
   "source": [
    "[x if x%2!=0 else \"NA\" for x in sqlist]"
   ]
  },
  {
   "cell_type": "code",
   "execution_count": 74,
   "metadata": {},
   "outputs": [],
   "source": [
    "panagram = 'The quick brown fox jumps over a lazy dog'"
   ]
  },
  {
   "cell_type": "code",
   "execution_count": 78,
   "metadata": {},
   "outputs": [
    {
     "data": {
      "text/plain": [
       "['T',\n",
       " 'H',\n",
       " ' ',\n",
       " 'Q',\n",
       " 'C',\n",
       " 'K',\n",
       " ' ',\n",
       " 'B',\n",
       " 'R',\n",
       " 'W',\n",
       " 'N',\n",
       " ' ',\n",
       " 'F',\n",
       " 'X',\n",
       " ' ',\n",
       " 'J',\n",
       " 'M',\n",
       " 'P',\n",
       " 'S',\n",
       " ' ',\n",
       " 'V',\n",
       " 'R',\n",
       " ' ',\n",
       " ' ',\n",
       " 'L',\n",
       " 'Z',\n",
       " 'Y',\n",
       " ' ',\n",
       " 'D',\n",
       " 'G']"
      ]
     },
     "execution_count": 78,
     "metadata": {},
     "output_type": "execute_result"
    }
   ],
   "source": [
    "[ch.upper() for ch in panagram if ch not in \"aeiou\"]"
   ]
  },
  {
   "cell_type": "code",
   "execution_count": 81,
   "metadata": {},
   "outputs": [
    {
     "data": {
      "text/plain": [
       "'Thequickbrownfoxjumpsoveralazydog'"
      ]
     },
     "execution_count": 81,
     "metadata": {},
     "output_type": "execute_result"
    }
   ],
   "source": [
    "panagram.replace(\" \",\"\")"
   ]
  },
  {
   "cell_type": "code",
   "execution_count": 92,
   "metadata": {},
   "outputs": [
    {
     "data": {
      "text/plain": [
       "16"
      ]
     },
     "execution_count": 92,
     "metadata": {},
     "output_type": "execute_result"
    }
   ],
   "source": [
    "panagram.find(\"f\")"
   ]
  },
  {
   "cell_type": "code",
   "execution_count": 95,
   "metadata": {},
   "outputs": [
    {
     "data": {
      "text/plain": [
       "True"
      ]
     },
     "execution_count": 95,
     "metadata": {},
     "output_type": "execute_result"
    }
   ],
   "source": [
    "panagram.casefold().islower()"
   ]
  },
  {
   "cell_type": "code",
   "execution_count": 104,
   "metadata": {},
   "outputs": [
    {
     "data": {
      "text/plain": [
       "['a', 'c', 'o', 'g', 'b', 'r', 'i', 't', 'd']"
      ]
     },
     "execution_count": 104,
     "metadata": {},
     "output_type": "execute_result"
    }
   ],
   "source": [
    "list(set([x for x in ''.join(wordlist)]))"
   ]
  },
  {
   "cell_type": "markdown",
   "metadata": {},
   "source": [
    "### Exception Handling"
   ]
  },
  {
   "cell_type": "code",
   "execution_count": 8,
   "metadata": {},
   "outputs": [],
   "source": [
    "anumber = int(input(\"Please enter an integer\"))\n"
   ]
  },
  {
   "cell_type": "code",
   "execution_count": 10,
   "metadata": {},
   "outputs": [
    {
     "name": "stdout",
     "output_type": "stream",
     "text": [
      "Bad Value for square root\n",
      "Using absolute value instead\n",
      "1.7320508075688772\n"
     ]
    }
   ],
   "source": [
    "import math\n",
    "try:\n",
    "    print(math.sqrt(anumber))\n",
    "except:\n",
    "    print(\"Bad Value for square root\")\n",
    "    print(\"Using absolute value instead\")\n",
    "    print(math.sqrt(abs(anumber)))"
   ]
  },
  {
   "cell_type": "code",
   "execution_count": 9,
   "metadata": {},
   "outputs": [
    {
     "ename": "RuntimeError",
     "evalue": "You can't use a negative number",
     "output_type": "error",
     "traceback": [
      "\u001b[0;31m-----------------------------------------------------------------------\u001b[0m",
      "\u001b[0;31mRuntimeError\u001b[0m                          Traceback (most recent call last)",
      "\u001b[0;32m<ipython-input-9-424977cff197>\u001b[0m in \u001b[0;36m<module>\u001b[0;34m()\u001b[0m\n\u001b[1;32m      1\u001b[0m \u001b[0;32mif\u001b[0m \u001b[0manumber\u001b[0m \u001b[0;34m<\u001b[0m \u001b[0;36m0\u001b[0m\u001b[0;34m:\u001b[0m\u001b[0;34m\u001b[0m\u001b[0m\n\u001b[0;32m----> 2\u001b[0;31m     \u001b[0;32mraise\u001b[0m \u001b[0mRuntimeError\u001b[0m\u001b[0;34m(\u001b[0m\u001b[0;34m\"You can't use a negative number\"\u001b[0m\u001b[0;34m)\u001b[0m\u001b[0;34m\u001b[0m\u001b[0m\n\u001b[0m\u001b[1;32m      3\u001b[0m \u001b[0;32melse\u001b[0m\u001b[0;34m:\u001b[0m\u001b[0;34m\u001b[0m\u001b[0m\n\u001b[1;32m      4\u001b[0m     \u001b[0mprint\u001b[0m\u001b[0;34m(\u001b[0m\u001b[0mmath\u001b[0m\u001b[0;34m.\u001b[0m\u001b[0msqrt\u001b[0m\u001b[0;34m(\u001b[0m\u001b[0manumber\u001b[0m\u001b[0;34m)\u001b[0m\u001b[0;34m)\u001b[0m\u001b[0;34m\u001b[0m\u001b[0m\n",
      "\u001b[0;31mRuntimeError\u001b[0m: You can't use a negative number"
     ]
    }
   ],
   "source": [
    "if anumber < 0:\n",
    "    raise RuntimeError(\"You can't use a negative number\")\n",
    "else:\n",
    "    print(math.sqrt(anumber))"
   ]
  },
  {
   "cell_type": "markdown",
   "metadata": {},
   "source": [
    "### Self Check\n",
    "\n",
    "Here’s a self check that really covers everything so far. You may have heard of the infinite monkey theorem? The theorem states that a monkey hitting keys at random on a typewriter keyboard for an infinite amount of time will almost surely type a given text, such as the complete works of William Shakespeare. Well, suppose we replace a monkey with a Python function. How long do you think it would take for a Python function to generate just one sentence of Shakespeare? The sentence we’ll shoot for is: “methinks it is like a weasel”\n",
    "\n",
    "You’re not going to want to run this one in the browser, so fire up your favorite Python IDE. The way we’ll simulate this is to write a function that generates a string that is 27 characters long by choosing random letters from the 26 letters in the alphabet plus the space. We’ll write another function that will score each generated string by comparing the randomly generated string to the goal.\n",
    "\n",
    "A third function will repeatedly call generate and score, then if 100% of the letters are correct we are done. If the letters are not correct then we will generate a whole new string.To make it easier to follow your program’s progress this third function should print out the best string generated so far and its score every 1000 tries."
   ]
  },
  {
   "cell_type": "code",
   "execution_count": 6,
   "metadata": {},
   "outputs": [],
   "source": [
    "target = 'methinks it is like a weasel'"
   ]
  },
  {
   "cell_type": "code",
   "execution_count": null,
   "metadata": {},
   "outputs": [],
   "source": []
  },
  {
   "cell_type": "code",
   "execution_count": 2,
   "metadata": {},
   "outputs": [],
   "source": [
    "def character_count(string):\n",
    "    char_freq = {}\n",
    "    for letter in set(string.replace(\" \",'')):\n",
    "        char_freq[letter] = string.count(letter)  \n",
    "    return char_freq"
   ]
  },
  {
   "cell_type": "code",
   "execution_count": 18,
   "metadata": {},
   "outputs": [],
   "source": [
    "def compare_strings(string1, string2):\n",
    "#     import pdb; pdb.set_trace()\n",
    "    if set(string1) == set(string2):\n",
    "        char_diff = {}\n",
    "        string1_count = character_count(string1)\n",
    "        string2_count = character_count(string2)\n",
    "\n",
    "        for letter in set(string1):\n",
    "            char_diff[letter] = string1_count[letter] - string2_count[letter]\n",
    "            \n",
    "        score = sum(char_diff.values())\n",
    "        \n",
    "        return score\n",
    "    \n",
    "    return 1000\n",
    "     \n",
    "def generate_random_string(size):\n",
    "    import string\n",
    "    import random\n",
    "\n",
    "    alphabets = list(string.ascii_lowercase)\n",
    "    new_string = ''.join(random.choices(alphabets, k=size))\n",
    "    \n",
    "    return new_string\n",
    "\n",
    "    "
   ]
  },
  {
   "cell_type": "code",
   "execution_count": 42,
   "metadata": {},
   "outputs": [],
   "source": [
    "def main(target_string):\n",
    "    target_string = target_string.replace(\" \",'')\n",
    "    count = 0\n",
    "    best_match = {'string': '',\n",
    "                  'score': 1e10,\n",
    "                  'count': 0,\n",
    "                 }\n",
    "    \n",
    "    size = len(target_string)\n",
    "    while (best_match['score']>0) & (count < 1e10):\n",
    "        new_string = generate_random_string(size)\n",
    "        score = compare_strings(target_string, new_string)\n",
    "        \n",
    "        if score < best_match['score']:\n",
    "            best_match['string'] = new_string\n",
    "            best_match['score'] = score\n",
    "            best_match['count'] = count\n",
    "            \n",
    "            \n",
    "        count +=1\n",
    "        if count%100000==0:\n",
    "            print('The best match so far happened at {} iteration with a {} score'.format(best_match['count'], best_match['score']))\n",
    "            \n",
    "    return best_match"
   ]
  },
  {
   "cell_type": "code",
   "execution_count": 46,
   "metadata": {},
   "outputs": [],
   "source": [
    "# main(target)"
   ]
  },
  {
   "cell_type": "code",
   "execution_count": null,
   "metadata": {},
   "outputs": [],
   "source": []
  }
 ],
 "metadata": {
  "kernelspec": {
   "display_name": "Python 3",
   "language": "python",
   "name": "python3"
  },
  "language_info": {
   "codemirror_mode": {
    "name": "ipython",
    "version": 3
   },
   "file_extension": ".py",
   "mimetype": "text/x-python",
   "name": "python",
   "nbconvert_exporter": "python",
   "pygments_lexer": "ipython3",
   "version": "3.6.4"
  }
 },
 "nbformat": 4,
 "nbformat_minor": 2
}
