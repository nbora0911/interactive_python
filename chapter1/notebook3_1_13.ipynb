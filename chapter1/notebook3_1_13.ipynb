{
 "cells": [
  {
   "cell_type": "markdown",
   "metadata": {},
   "source": [
    "## 1.13. Object-Oriented Programming in Python: Defining Classes¶\n"
   ]
  },
  {
   "cell_type": "markdown",
   "metadata": {},
   "source": [
    "def __init__(self, top, bottom) is constructor method.\n",
    "The first method that all classes should provide is the constructor. The constructor defines the way in which data objects are created. "
   ]
  },
  {
   "cell_type": "code",
   "execution_count": 102,
   "metadata": {},
   "outputs": [],
   "source": [
    "def gcd(m,n):\n",
    "    while m%n != 0:\n",
    "        oldm = m\n",
    "        oldn = n\n",
    "\n",
    "        m = oldn\n",
    "        n = oldm%oldn\n",
    "    return n\n",
    "\n",
    "class Fraction:\n",
    "    \n",
    "    def __init__(self, top, bottom):\n",
    "        \n",
    "        self.num = top\n",
    "        self.den = bottom\n",
    "        \n",
    "    def show(self):\n",
    "        print(self.num, \"/\", self.den)\n",
    "    \n",
    "    def __str__(self):\n",
    "        return str(self.num)+'/'+str(self.den)\n",
    "    \n",
    "    def __add__(self, otherfraction):\n",
    "        \n",
    "        newnum = self.num * otherfraction.den + otherfraction.num * self.den\n",
    "        newden = self.den * otherfraction.den\n",
    "        \n",
    "        gcd_num_dem = gcd(newden, newnum) \n",
    "        return Fraction(newnum//gcd_num_dem, newden//gcd_num_dem)\n",
    "    \n",
    "    def __eq__(self, otherfraction):\n",
    "        \n",
    "        num1 = self.num *otherfraction.den\n",
    "        otherfraction_num = self.den * otherfraction.num\n",
    "        \n",
    "#         if num1==otherfraction_num:\n",
    "#             return True\n",
    "        return num1==otherfraction_num\n",
    "\n",
    "    def __le__(self, otherfraction):\n",
    "        num1 = self.num *otherfraction.den\n",
    "        num2 = self.den * otherfraction.num\n",
    "        \n",
    "        return num1 <= num2\n",
    "    \n",
    "    def __ge__(self, otherfraction):\n",
    "        num1 = self.num *otherfraction.den\n",
    "        num2 = self.den * otherfraction.num\n",
    "        \n",
    "        return num1 >= num2\n",
    "    \n",
    "    def __sub__(self, otherfraction):\n",
    "        num1 = self.num *otherfraction.den\n",
    "        num2 = self.den * otherfraction.num\n",
    "        \n",
    "        num_diff = num1 - num2\n",
    "        den = self.den * otherfraction.den\n",
    "        common = gcd(abs(den), abs(num_diff))\n",
    "        \n",
    "        return Fraction(num_diff//common, den//common)\n",
    "    \n",
    "    def __mul__(self, otherfraction):\n",
    "    \n",
    "        numnew = self.num *otherfraction.num\n",
    "        dennew = self.den * otherfraction.den\n",
    "        \n",
    "        common = gcd(abs(dennew), abs(numnew))\n",
    "        \n",
    "        return Fraction(numnew//common, dennew//common)\n",
    "    \n",
    "    def __truediv__(self, otherfraction):\n",
    "        \n",
    "        newnum = self.num *otherfraction.den\n",
    "        newden = self.den *otherfraction.num\n",
    "        \n",
    "        common = gcd(newden, newnum)\n",
    "        \n",
    "        return Fraction(numnew//common, dennew//common)\n",
    "    \n",
    "    "
   ]
  },
  {
   "cell_type": "code",
   "execution_count": 66,
   "metadata": {},
   "outputs": [
    {
     "data": {
      "text/plain": [
       "-2"
      ]
     },
     "execution_count": 66,
     "metadata": {},
     "output_type": "execute_result"
    }
   ],
   "source": []
  },
  {
   "cell_type": "code",
   "execution_count": 22,
   "metadata": {},
   "outputs": [],
   "source": [
    "# invoking the constructor\n",
    "myfraction = Fraction(3,5)"
   ]
  },
  {
   "cell_type": "code",
   "execution_count": 13,
   "metadata": {},
   "outputs": [
    {
     "data": {
      "text/plain": [
       "<__main__.Fraction at 0x105a50278>"
      ]
     },
     "execution_count": 13,
     "metadata": {},
     "output_type": "execute_result"
    }
   ],
   "source": [
    "myfraction"
   ]
  },
  {
   "cell_type": "code",
   "execution_count": 14,
   "metadata": {},
   "outputs": [
    {
     "data": {
      "text/plain": [
       "(3, 5)"
      ]
     },
     "execution_count": 14,
     "metadata": {},
     "output_type": "execute_result"
    }
   ],
   "source": [
    "myfraction.num, myfraction.den"
   ]
  },
  {
   "cell_type": "code",
   "execution_count": 15,
   "metadata": {},
   "outputs": [],
   "source": [
    "# add def show function so that Fraction(3,5) is printed in a pretty format"
   ]
  },
  {
   "cell_type": "code",
   "execution_count": 16,
   "metadata": {},
   "outputs": [
    {
     "name": "stdout",
     "output_type": "stream",
     "text": [
      "3 / 5\n"
     ]
    }
   ],
   "source": [
    "myfraction.show()"
   ]
  },
  {
   "cell_type": "code",
   "execution_count": 17,
   "metadata": {},
   "outputs": [
    {
     "name": "stdout",
     "output_type": "stream",
     "text": [
      "<__main__.Fraction object at 0x105a50278>\n"
     ]
    }
   ],
   "source": [
    "print(myfraction)\n",
    "# we need the above function to show something readable/understandable by human being\n",
    "# __string__\n"
   ]
  },
  {
   "cell_type": "code",
   "execution_count": 24,
   "metadata": {},
   "outputs": [
    {
     "name": "stdout",
     "output_type": "stream",
     "text": [
      "3/5\n"
     ]
    }
   ],
   "source": [
    "print(myfraction)"
   ]
  },
  {
   "cell_type": "code",
   "execution_count": 25,
   "metadata": {},
   "outputs": [
    {
     "name": "stdout",
     "output_type": "stream",
     "text": [
      "I ate 3/5 of the pizza\n"
     ]
    }
   ],
   "source": [
    "print(\"I ate\", myfraction, \"of the pizza\")"
   ]
  },
  {
   "cell_type": "code",
   "execution_count": 96,
   "metadata": {},
   "outputs": [],
   "source": [
    "f1 = Fraction(1,4)\n",
    "f2 = Fraction(1,2)"
   ]
  },
  {
   "cell_type": "code",
   "execution_count": 97,
   "metadata": {},
   "outputs": [
    {
     "name": "stdout",
     "output_type": "stream",
     "text": [
      "3/4\n"
     ]
    }
   ],
   "source": [
    "print(f1+f2)"
   ]
  },
  {
   "cell_type": "markdown",
   "metadata": {},
   "source": [
    "The best-known algorithm for finding a greatest common divisor is Euclid’s Algorithm, which will be discussed in detail in Chapter 8. Euclid’s Algorithm states that the greatest common divisor of two integers m and n is n if n divides m evenly. However, if n does not divide m evenly, then the answer is the greatest common divisor of n and the remainder of m divided by n."
   ]
  },
  {
   "cell_type": "code",
   "execution_count": 98,
   "metadata": {},
   "outputs": [
    {
     "name": "stdout",
     "output_type": "stream",
     "text": [
      "False\n"
     ]
    }
   ],
   "source": [
    "print(f1==f2)"
   ]
  },
  {
   "cell_type": "code",
   "execution_count": 99,
   "metadata": {},
   "outputs": [],
   "source": [
    "f3 = Fraction(1,2)"
   ]
  },
  {
   "cell_type": "code",
   "execution_count": 100,
   "metadata": {},
   "outputs": [
    {
     "name": "stdout",
     "output_type": "stream",
     "text": [
      "True\n"
     ]
    }
   ],
   "source": [
    "print(f2==f3)"
   ]
  },
  {
   "cell_type": "code",
   "execution_count": 101,
   "metadata": {},
   "outputs": [
    {
     "name": "stdout",
     "output_type": "stream",
     "text": [
      "-1/4\n"
     ]
    }
   ],
   "source": [
    "print(f1 - f2)"
   ]
  },
  {
   "cell_type": "code",
   "execution_count": 77,
   "metadata": {},
   "outputs": [
    {
     "ename": "SyntaxError",
     "evalue": "invalid syntax (<ipython-input-77-c4cf11834352>, line 1)",
     "output_type": "error",
     "traceback": [
      "\u001b[0;36m  File \u001b[0;32m\"<ipython-input-77-c4cf11834352>\"\u001b[0;36m, line \u001b[0;32m1\u001b[0m\n\u001b[0;31m    myfraction.__add__()??\u001b[0m\n\u001b[0m                        ^\u001b[0m\n\u001b[0;31mSyntaxError\u001b[0m\u001b[0;31m:\u001b[0m invalid syntax\n"
     ]
    }
   ],
   "source": []
  },
  {
   "cell_type": "code",
   "execution_count": null,
   "metadata": {},
   "outputs": [],
   "source": [
    ".__add__"
   ]
  },
  {
   "cell_type": "markdown",
   "metadata": {},
   "source": [
    "## 1.13.2. Inheritance: Logic Gates and Circuits¶\n"
   ]
  },
  {
   "cell_type": "code",
   "execution_count": 107,
   "metadata": {},
   "outputs": [],
   "source": [
    "class LogicGate:\n",
    "    \n",
    "    def __init__(self, n):\n",
    "        self.label = n\n",
    "        self.output = None\n",
    "        \n",
    "    def getLabel(self):\n",
    "        return self.label\n",
    "    \n",
    "    def getOutput(self):\n",
    "        self.output = self.performGateLogic()\n",
    "        return self.output\n",
    "        \n",
    "        \n"
   ]
  },
  {
   "cell_type": "markdown",
   "metadata": {},
   "source": [
    " We categorized the logic gates based on the number of input lines. The AND gate has two input lines. The OR gate also has two input lines. NOT gates have one input line. The BinaryGate class will be a subclass of LogicGate and will add two input lines. The UnaryGate class will also subclass LogicGate but will have only a single input line. In computer circuit design, these lines are sometimes called “pins” so we will use that terminology in our implementation."
   ]
  },
  {
   "cell_type": "code",
   "execution_count": 111,
   "metadata": {},
   "outputs": [],
   "source": [
    "class BinaryGate(LogicGate):\n",
    "    def __init__(self, n):\n",
    "        LogicGate.__init__(self, n)\n",
    "        self.pinA = None\n",
    "        self.pinB = None\n",
    "    \n",
    "    def getPinA(self):\n",
    "        return int(input(\"Enter Pin A input for gate\" + self.getLabel()+'---->'))\n",
    "    \n",
    "    def getPinB(self):\n",
    "        return int(input(\"Enter Pin B input for gate\" + self.getLabel()+'---->'))\n",
    "    \n",
    "class UnaryGate(LogicGate):\n",
    "    def __init__(self, n):\n",
    "        LogicGate.__init__(self, n)\n",
    "        self.pin = None\n",
    "    \n",
    "    def getPin(self):\n",
    "        return int(input(\"Enter a Pin input for gate\" + self.getLabel()+'---->'))\n",
    "    "
   ]
  },
  {
   "cell_type": "markdown",
   "metadata": {},
   "source": [
    "Now that we have a general class for gates depending on the number of input lines, we can build specific gates that have unique behavior."
   ]
  },
  {
   "cell_type": "code",
   "execution_count": 112,
   "metadata": {},
   "outputs": [],
   "source": [
    "class AndGate(BinaryGate):\n",
    "    \n",
    "    def __init__(self, n):\n",
    "        BinaryGate.__init__(self,n)\n",
    "        \n",
    "    def performGateLogic(self):\n",
    "        a = self.getPinA()\n",
    "        b = self.getPinB()\n",
    "        if a==1 and b==1:\n",
    "            return 1\n",
    "        else:\n",
    "            return 0"
   ]
  },
  {
   "cell_type": "code",
   "execution_count": 113,
   "metadata": {},
   "outputs": [],
   "source": [
    "g1 = AndGate(\"G1\")"
   ]
  },
  {
   "cell_type": "code",
   "execution_count": 114,
   "metadata": {},
   "outputs": [
    {
     "data": {
      "text/plain": [
       "1"
      ]
     },
     "execution_count": 114,
     "metadata": {},
     "output_type": "execute_result"
    }
   ],
   "source": [
    "g1.getOutput()"
   ]
  },
  {
   "cell_type": "code",
   "execution_count": 115,
   "metadata": {},
   "outputs": [
    {
     "data": {
      "text/plain": [
       "0"
      ]
     },
     "execution_count": 115,
     "metadata": {},
     "output_type": "execute_result"
    }
   ],
   "source": [
    "g1.getOutput()"
   ]
  },
  {
   "cell_type": "code",
   "execution_count": null,
   "metadata": {},
   "outputs": [],
   "source": []
  }
 ],
 "metadata": {
  "kernelspec": {
   "display_name": "Python 3",
   "language": "python",
   "name": "python3"
  },
  "language_info": {
   "codemirror_mode": {
    "name": "ipython",
    "version": 3
   },
   "file_extension": ".py",
   "mimetype": "text/x-python",
   "name": "python",
   "nbconvert_exporter": "python",
   "pygments_lexer": "ipython3",
   "version": "3.6.4"
  }
 },
 "nbformat": 4,
 "nbformat_minor": 2
}
